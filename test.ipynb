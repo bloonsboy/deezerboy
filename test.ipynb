{
 "cells": [
  {
   "cell_type": "code",
   "execution_count": 3,
   "id": "0ff6bfea",
   "metadata": {},
   "outputs": [
    {
     "name": "stderr",
     "output_type": "stream",
     "text": [
      "2025-10-20 17:58:28,489 - INFO - User ID: 1845554682\n"
     ]
    }
   ],
   "source": [
    "import logging\n",
    "import os\n",
    "from dotenv import load_dotenv\n",
    "\n",
    "load_dotenv()\n",
    "logging.basicConfig(\n",
    "    level=logging.INFO, format=\"%(asctime)s - %(levelname)s - %(message)s\"\n",
    ")\n",
    "\n",
    "USER_ID = os.getenv(\"DEEZER_USER_ID\")\n",
    "logging.info(f\"User ID: {USER_ID}\")"
   ]
  },
  {
   "cell_type": "code",
   "execution_count": 4,
   "id": "1391f300",
   "metadata": {},
   "outputs": [
    {
     "name": "stderr",
     "output_type": "stream",
     "text": [
      "2025-10-20 17:58:29,236 - INFO - Found 45 playlists for user Nathan\n",
      "Processing Playlists: 100%|██████████| 45/45 [00:15<00:00,  2.89it/s]\n",
      "2025-10-20 17:58:44,856 - INFO - Total unique tracks collected: 2287\n"
     ]
    },
    {
     "data": {
      "application/vnd.microsoft.datawrangler.viewer.v0+json": {
       "columns": [
        {
         "name": "index",
         "rawType": "int64",
         "type": "integer"
        },
        {
         "name": "id",
         "rawType": "object",
         "type": "unknown"
        },
        {
         "name": "title",
         "rawType": "object",
         "type": "string"
        },
        {
         "name": "artist",
         "rawType": "object",
         "type": "string"
        },
        {
         "name": "album",
         "rawType": "object",
         "type": "string"
        },
        {
         "name": "duration",
         "rawType": "object",
         "type": "unknown"
        },
        {
         "name": "rank",
         "rawType": "object",
         "type": "unknown"
        },
        {
         "name": "isrc",
         "rawType": "object",
         "type": "string"
        },
        {
         "name": "preview",
         "rawType": "object",
         "type": "string"
        },
        {
         "name": "?XD",
         "rawType": "object",
         "type": "unknown"
        },
        {
         "name": "ADD",
         "rawType": "object",
         "type": "unknown"
        },
        {
         "name": "ANS",
         "rawType": "object",
         "type": "unknown"
        },
        {
         "name": "CHV",
         "rawType": "object",
         "type": "unknown"
        },
        {
         "name": "CMF",
         "rawType": "object",
         "type": "unknown"
        },
        {
         "name": "CTP",
         "rawType": "object",
         "type": "unknown"
        },
        {
         "name": "CTV",
         "rawType": "object",
         "type": "unknown"
        },
        {
         "name": "CUH",
         "rawType": "object",
         "type": "unknown"
        },
        {
         "name": "DEM",
         "rawType": "object",
         "type": "unknown"
        },
        {
         "name": "FAE",
         "rawType": "object",
         "type": "unknown"
        },
        {
         "name": "FAF",
         "rawType": "object",
         "type": "unknown"
        },
        {
         "name": "FAJ",
         "rawType": "object",
         "type": "unknown"
        },
        {
         "name": "FAV",
         "rawType": "object",
         "type": "unknown"
        },
        {
         "name": "FCV",
         "rawType": "object",
         "type": "unknown"
        },
        {
         "name": "FNK",
         "rawType": "object",
         "type": "unknown"
        },
        {
         "name": "Full - part 4",
         "rawType": "object",
         "type": "unknown"
        },
        {
         "name": "GMG",
         "rawType": "object",
         "type": "unknown"
        },
        {
         "name": "HPV",
         "rawType": "object",
         "type": "unknown"
        },
        {
         "name": "HUV",
         "rawType": "object",
         "type": "unknown"
        },
        {
         "name": "JAF",
         "rawType": "object",
         "type": "unknown"
        },
        {
         "name": "LOF",
         "rawType": "object",
         "type": "unknown"
        },
        {
         "name": "Coups de cœur",
         "rawType": "object",
         "type": "unknown"
        },
        {
         "name": "LRB",
         "rawType": "object",
         "type": "unknown"
        },
        {
         "name": "MSC",
         "rawType": "object",
         "type": "unknown"
        },
        {
         "name": "ONE",
         "rawType": "object",
         "type": "unknown"
        },
        {
         "name": "POE",
         "rawType": "object",
         "type": "unknown"
        },
        {
         "name": "POF",
         "rawType": "object",
         "type": "unknown"
        },
        {
         "name": "POJ",
         "rawType": "object",
         "type": "unknown"
        },
        {
         "name": "POK",
         "rawType": "object",
         "type": "unknown"
        },
        {
         "name": "RCN",
         "rawType": "object",
         "type": "unknown"
        },
        {
         "name": "RKE",
         "rawType": "object",
         "type": "unknown"
        },
        {
         "name": "RKJ",
         "rawType": "object",
         "type": "unknown"
        },
        {
         "name": "RPE",
         "rawType": "object",
         "type": "unknown"
        },
        {
         "name": "RPF",
         "rawType": "object",
         "type": "unknown"
        },
        {
         "name": "SGM",
         "rawType": "object",
         "type": "unknown"
        },
        {
         "name": "SLV",
         "rawType": "object",
         "type": "unknown"
        },
        {
         "name": "SMR",
         "rawType": "object",
         "type": "unknown"
        },
        {
         "name": "SNC",
         "rawType": "object",
         "type": "unknown"
        },
        {
         "name": "VCL",
         "rawType": "object",
         "type": "unknown"
        }
       ],
       "ref": "d6526e56-1e97-491f-a85a-3fc2ab73fdde",
       "rows": [
        [
         "0",
         "1804919817",
         "STRIX",
         "(K)now_Name",
         "SPY x FAMILY Soundtrack Vol. 1 (Music from the Original TV Series)",
         "144",
         "272992",
         "JPV432200116",
         "https://cdnt-preview.dzcdn.net/api/1/1/4/0/4/0/40475a6a4ec955f59910b5d5c9b5563e.mp3?hdnea=exp=1760976818~acl=/api/1/1/4/0/4/0/40475a6a4ec955f59910b5d5c9b5563e.mp3*~data=user_id=0,application_id=42~hmac=6a2b7a732467d9c14a9080e7f0d9a5b085e15e2d2ed56865d488b3c73d32210a",
         null,
         null,
         null,
         null,
         null,
         null,
         null,
         null,
         null,
         null,
         null,
         null,
         null,
         null,
         null,
         null,
         null,
         null,
         null,
         null,
         null,
         null,
         null,
         "True",
         null,
         null,
         null,
         null,
         null,
         null,
         null,
         null,
         null,
         null,
         null,
         null,
         null,
         null,
         null
        ],
        [
         "1",
         "1804920257",
         "TBD",
         "(K)now_Name",
         "SPY x FAMILY Soundtrack Vol. 1 (Music from the Original TV Series)",
         "236",
         "178595",
         "GX5MX2275680",
         "https://cdnt-preview.dzcdn.net/api/1/1/1/1/e/0/11e495275827edf38a5c90082fa55fad.mp3?hdnea=exp=1760976816~acl=/api/1/1/1/1/e/0/11e495275827edf38a5c90082fa55fad.mp3*~data=user_id=0,application_id=42~hmac=4419f98b1c5a2d99f5c24ea89403b79b64c1fc2fabfe6e2c6ad0cd4c6417307c",
         null,
         null,
         null,
         null,
         null,
         null,
         null,
         null,
         null,
         null,
         null,
         null,
         null,
         null,
         null,
         null,
         null,
         null,
         "True",
         null,
         null,
         null,
         null,
         null,
         null,
         null,
         null,
         null,
         null,
         null,
         null,
         "True",
         null,
         null,
         null,
         null,
         null,
         null,
         null
        ],
        [
         "2",
         "1804919827",
         "WISE",
         "(K)now_Name",
         "SPY x FAMILY Soundtrack Vol. 1 (Music from the Original TV Series)",
         "101",
         "141881",
         "JPV432200117",
         "https://cdnt-preview.dzcdn.net/api/1/1/1/0/7/0/107668889ede0e92e43404b19cde29dc.mp3?hdnea=exp=1760976818~acl=/api/1/1/1/0/7/0/107668889ede0e92e43404b19cde29dc.mp3*~data=user_id=0,application_id=42~hmac=a6233b6f7d6244e5556823245a776d59e9cef57e8c4d1a8858724273846ac1d8",
         null,
         null,
         null,
         null,
         null,
         null,
         null,
         null,
         null,
         null,
         null,
         null,
         null,
         null,
         null,
         null,
         null,
         null,
         null,
         null,
         null,
         null,
         null,
         "True",
         null,
         null,
         null,
         null,
         null,
         null,
         null,
         null,
         null,
         null,
         null,
         null,
         null,
         null,
         null
        ],
        [
         "3",
         "1190172492",
         "sleeping beauty feat.GUMI",
         "164",
         "THIS IS VOCAROCK feat.GUMI",
         "236",
         "32537",
         "JPC231400461",
         "https://cdnt-preview.dzcdn.net/api/1/1/8/3/e/0/83e62eb9e18504b89de838ffc1ce607f.mp3?hdnea=exp=1760976824~acl=/api/1/1/8/3/e/0/83e62eb9e18504b89de838ffc1ce607f.mp3*~data=user_id=0,application_id=42~hmac=f91dec4c23870e94701d0a1739efa87ef782232f217aa2b8f74a45b61f4f9a25",
         null,
         null,
         null,
         null,
         null,
         null,
         null,
         null,
         null,
         null,
         null,
         null,
         null,
         null,
         null,
         null,
         null,
         null,
         null,
         null,
         null,
         null,
         null,
         null,
         null,
         null,
         null,
         null,
         null,
         null,
         null,
         null,
         null,
         null,
         null,
         null,
         null,
         null,
         "True"
        ],
        [
         "4",
         "1190172582",
         "タイムマシン feat.GUMI",
         "164",
         "THIS IS VOCAROCK feat.GUMI",
         "248",
         "99545",
         "JPC231400470",
         "https://cdnt-preview.dzcdn.net/api/1/1/6/3/1/0/63134f05f19877a26b205143998fdc6c.mp3?hdnea=exp=1760976824~acl=/api/1/1/6/3/1/0/63134f05f19877a26b205143998fdc6c.mp3*~data=user_id=0,application_id=42~hmac=5490be9ea5113659f7df8c18079353e8b4e27d3746947ad1a63bfc4d79e8f8f7",
         null,
         null,
         null,
         null,
         null,
         null,
         null,
         null,
         null,
         null,
         null,
         null,
         null,
         null,
         null,
         null,
         null,
         null,
         null,
         null,
         null,
         null,
         null,
         null,
         null,
         null,
         null,
         null,
         null,
         null,
         null,
         null,
         null,
         null,
         null,
         null,
         null,
         null,
         "True"
        ]
       ],
       "shape": {
        "columns": 47,
        "rows": 5
       }
      },
      "text/html": [
       "<div>\n",
       "<style scoped>\n",
       "    .dataframe tbody tr th:only-of-type {\n",
       "        vertical-align: middle;\n",
       "    }\n",
       "\n",
       "    .dataframe tbody tr th {\n",
       "        vertical-align: top;\n",
       "    }\n",
       "\n",
       "    .dataframe thead th {\n",
       "        text-align: right;\n",
       "    }\n",
       "</style>\n",
       "<table border=\"1\" class=\"dataframe\">\n",
       "  <thead>\n",
       "    <tr style=\"text-align: right;\">\n",
       "      <th></th>\n",
       "      <th>id</th>\n",
       "      <th>title</th>\n",
       "      <th>artist</th>\n",
       "      <th>album</th>\n",
       "      <th>duration</th>\n",
       "      <th>rank</th>\n",
       "      <th>isrc</th>\n",
       "      <th>preview</th>\n",
       "      <th>?XD</th>\n",
       "      <th>ADD</th>\n",
       "      <th>...</th>\n",
       "      <th>RCN</th>\n",
       "      <th>RKE</th>\n",
       "      <th>RKJ</th>\n",
       "      <th>RPE</th>\n",
       "      <th>RPF</th>\n",
       "      <th>SGM</th>\n",
       "      <th>SLV</th>\n",
       "      <th>SMR</th>\n",
       "      <th>SNC</th>\n",
       "      <th>VCL</th>\n",
       "    </tr>\n",
       "  </thead>\n",
       "  <tbody>\n",
       "    <tr>\n",
       "      <th>0</th>\n",
       "      <td>1804919817</td>\n",
       "      <td>STRIX</td>\n",
       "      <td>(K)now_Name</td>\n",
       "      <td>SPY x FAMILY Soundtrack Vol. 1 (Music from the...</td>\n",
       "      <td>144</td>\n",
       "      <td>272992</td>\n",
       "      <td>JPV432200116</td>\n",
       "      <td>https://cdnt-preview.dzcdn.net/api/1/1/4/0/4/0...</td>\n",
       "      <td>NaN</td>\n",
       "      <td>NaN</td>\n",
       "      <td>...</td>\n",
       "      <td>NaN</td>\n",
       "      <td>NaN</td>\n",
       "      <td>NaN</td>\n",
       "      <td>NaN</td>\n",
       "      <td>NaN</td>\n",
       "      <td>NaN</td>\n",
       "      <td>NaN</td>\n",
       "      <td>NaN</td>\n",
       "      <td>NaN</td>\n",
       "      <td>NaN</td>\n",
       "    </tr>\n",
       "    <tr>\n",
       "      <th>1</th>\n",
       "      <td>1804920257</td>\n",
       "      <td>TBD</td>\n",
       "      <td>(K)now_Name</td>\n",
       "      <td>SPY x FAMILY Soundtrack Vol. 1 (Music from the...</td>\n",
       "      <td>236</td>\n",
       "      <td>178595</td>\n",
       "      <td>GX5MX2275680</td>\n",
       "      <td>https://cdnt-preview.dzcdn.net/api/1/1/1/1/e/0...</td>\n",
       "      <td>NaN</td>\n",
       "      <td>NaN</td>\n",
       "      <td>...</td>\n",
       "      <td>NaN</td>\n",
       "      <td>NaN</td>\n",
       "      <td>True</td>\n",
       "      <td>NaN</td>\n",
       "      <td>NaN</td>\n",
       "      <td>NaN</td>\n",
       "      <td>NaN</td>\n",
       "      <td>NaN</td>\n",
       "      <td>NaN</td>\n",
       "      <td>NaN</td>\n",
       "    </tr>\n",
       "    <tr>\n",
       "      <th>2</th>\n",
       "      <td>1804919827</td>\n",
       "      <td>WISE</td>\n",
       "      <td>(K)now_Name</td>\n",
       "      <td>SPY x FAMILY Soundtrack Vol. 1 (Music from the...</td>\n",
       "      <td>101</td>\n",
       "      <td>141881</td>\n",
       "      <td>JPV432200117</td>\n",
       "      <td>https://cdnt-preview.dzcdn.net/api/1/1/1/0/7/0...</td>\n",
       "      <td>NaN</td>\n",
       "      <td>NaN</td>\n",
       "      <td>...</td>\n",
       "      <td>NaN</td>\n",
       "      <td>NaN</td>\n",
       "      <td>NaN</td>\n",
       "      <td>NaN</td>\n",
       "      <td>NaN</td>\n",
       "      <td>NaN</td>\n",
       "      <td>NaN</td>\n",
       "      <td>NaN</td>\n",
       "      <td>NaN</td>\n",
       "      <td>NaN</td>\n",
       "    </tr>\n",
       "    <tr>\n",
       "      <th>3</th>\n",
       "      <td>1190172492</td>\n",
       "      <td>sleeping beauty feat.GUMI</td>\n",
       "      <td>164</td>\n",
       "      <td>THIS IS VOCAROCK feat.GUMI</td>\n",
       "      <td>236</td>\n",
       "      <td>32537</td>\n",
       "      <td>JPC231400461</td>\n",
       "      <td>https://cdnt-preview.dzcdn.net/api/1/1/8/3/e/0...</td>\n",
       "      <td>NaN</td>\n",
       "      <td>NaN</td>\n",
       "      <td>...</td>\n",
       "      <td>NaN</td>\n",
       "      <td>NaN</td>\n",
       "      <td>NaN</td>\n",
       "      <td>NaN</td>\n",
       "      <td>NaN</td>\n",
       "      <td>NaN</td>\n",
       "      <td>NaN</td>\n",
       "      <td>NaN</td>\n",
       "      <td>NaN</td>\n",
       "      <td>True</td>\n",
       "    </tr>\n",
       "    <tr>\n",
       "      <th>4</th>\n",
       "      <td>1190172582</td>\n",
       "      <td>タイムマシン feat.GUMI</td>\n",
       "      <td>164</td>\n",
       "      <td>THIS IS VOCAROCK feat.GUMI</td>\n",
       "      <td>248</td>\n",
       "      <td>99545</td>\n",
       "      <td>JPC231400470</td>\n",
       "      <td>https://cdnt-preview.dzcdn.net/api/1/1/6/3/1/0...</td>\n",
       "      <td>NaN</td>\n",
       "      <td>NaN</td>\n",
       "      <td>...</td>\n",
       "      <td>NaN</td>\n",
       "      <td>NaN</td>\n",
       "      <td>NaN</td>\n",
       "      <td>NaN</td>\n",
       "      <td>NaN</td>\n",
       "      <td>NaN</td>\n",
       "      <td>NaN</td>\n",
       "      <td>NaN</td>\n",
       "      <td>NaN</td>\n",
       "      <td>True</td>\n",
       "    </tr>\n",
       "  </tbody>\n",
       "</table>\n",
       "<p>5 rows × 47 columns</p>\n",
       "</div>"
      ],
      "text/plain": [
       "           id                      title       artist  \\\n",
       "0  1804919817                      STRIX  (K)now_Name   \n",
       "1  1804920257                        TBD  (K)now_Name   \n",
       "2  1804919827                       WISE  (K)now_Name   \n",
       "3  1190172492  sleeping beauty feat.GUMI          164   \n",
       "4  1190172582           タイムマシン feat.GUMI          164   \n",
       "\n",
       "                                               album duration    rank  \\\n",
       "0  SPY x FAMILY Soundtrack Vol. 1 (Music from the...      144  272992   \n",
       "1  SPY x FAMILY Soundtrack Vol. 1 (Music from the...      236  178595   \n",
       "2  SPY x FAMILY Soundtrack Vol. 1 (Music from the...      101  141881   \n",
       "3                         THIS IS VOCAROCK feat.GUMI      236   32537   \n",
       "4                         THIS IS VOCAROCK feat.GUMI      248   99545   \n",
       "\n",
       "           isrc                                            preview  ?XD  ADD  \\\n",
       "0  JPV432200116  https://cdnt-preview.dzcdn.net/api/1/1/4/0/4/0...  NaN  NaN   \n",
       "1  GX5MX2275680  https://cdnt-preview.dzcdn.net/api/1/1/1/1/e/0...  NaN  NaN   \n",
       "2  JPV432200117  https://cdnt-preview.dzcdn.net/api/1/1/1/0/7/0...  NaN  NaN   \n",
       "3  JPC231400461  https://cdnt-preview.dzcdn.net/api/1/1/8/3/e/0...  NaN  NaN   \n",
       "4  JPC231400470  https://cdnt-preview.dzcdn.net/api/1/1/6/3/1/0...  NaN  NaN   \n",
       "\n",
       "   ...  RCN  RKE   RKJ  RPE  RPF  SGM  SLV  SMR  SNC   VCL  \n",
       "0  ...  NaN  NaN   NaN  NaN  NaN  NaN  NaN  NaN  NaN   NaN  \n",
       "1  ...  NaN  NaN  True  NaN  NaN  NaN  NaN  NaN  NaN   NaN  \n",
       "2  ...  NaN  NaN   NaN  NaN  NaN  NaN  NaN  NaN  NaN   NaN  \n",
       "3  ...  NaN  NaN   NaN  NaN  NaN  NaN  NaN  NaN  NaN  True  \n",
       "4  ...  NaN  NaN   NaN  NaN  NaN  NaN  NaN  NaN  NaN  True  \n",
       "\n",
       "[5 rows x 47 columns]"
      ]
     },
     "execution_count": 4,
     "metadata": {},
     "output_type": "execute_result"
    }
   ],
   "source": [
    "from pathlib import Path\n",
    "from deezerus import get_track_list\n",
    "\n",
    "df_tracks = get_track_list(USER_ID, full_version=False)\n",
    "df_tracks.to_csv(Path.home() / \"Downloads\" / \"track_list.csv\", index=False)\n",
    "\n",
    "df_tracks.head()"
   ]
  },
  {
   "cell_type": "code",
   "execution_count": 5,
   "id": "4b4a22ba",
   "metadata": {},
   "outputs": [
    {
     "name": "stderr",
     "output_type": "stream",
     "text": [
      "c:\\Users\\NATHAN\\miniconda3\\envs\\deezerboy\\Lib\\site-packages\\tqdm\\auto.py:21: TqdmWarning: IProgress not found. Please update jupyter and ipywidgets. See https://ipywidgets.readthedocs.io/en/stable/user_install.html\n",
      "  from .autonotebook import tqdm as notebook_tqdm\n"
     ]
    }
   ],
   "source": [
    "import pandas as pd\n",
    "import requests\n",
    "from transformers import pipeline\n",
    "from concurrent.futures import ThreadPoolExecutor\n",
    "from tqdm import tqdm\n",
    "\n",
    "# --- Fonctions de base (optimisées) ---\n",
    "\n",
    "\n",
    "def _telecharger_audio(url):\n",
    "    try:\n",
    "        if isinstance(url, str) and url.startswith(\"http\"):\n",
    "            r = requests.get(url, timeout=10)\n",
    "            r.raise_for_status()\n",
    "            return r.content if \"audio\" in r.headers.get(\"Content-Type\", \"\") else None\n",
    "    except requests.RequestException:\n",
    "        return None\n",
    "\n",
    "\n",
    "def obtenir_genres_en_lot(urls, batch_size=8, workers=10):\n",
    "    classifier = pipeline(\n",
    "        \"audio-classification\", model=\"dima806/music_genres_classification\"\n",
    "    )\n",
    "\n",
    "    print(\"Étape 1: Téléchargement des fichiers audio...\")\n",
    "    with ThreadPoolExecutor(max_workers=workers) as executor:\n",
    "        contenus = list(tqdm(executor.map(_telecharger_audio, urls), total=len(urls)))\n",
    "\n",
    "    donnees_valides = [(i, audio) for i, audio in enumerate(contenus) if audio]\n",
    "    if not donnees_valides:\n",
    "        print(\"Aucun fichier audio valide trouvé.\")\n",
    "        return [\"Erreur\"] * len(urls)\n",
    "\n",
    "    indices, audios_valides = zip(*donnees_valides)\n",
    "\n",
    "    print(\"\\nÉtape 2: Classification des genres...\")\n",
    "    predictions = list(\n",
    "        tqdm(\n",
    "            classifier(list(audios_valides), batch_size=batch_size),\n",
    "            total=len(audios_valides),\n",
    "        )\n",
    "    )\n",
    "\n",
    "    resultats = {indices[i]: p[0][\"label\"] for i, p in enumerate(predictions) if p}\n",
    "\n",
    "    return [resultats.get(i, \"Erreur\") for i in range(len(urls))]\n",
    "\n",
    "\n",
    "# --- Fonction principale pour le DataFrame ---\n",
    "\n",
    "\n",
    "def classifier_tous_les_genres(df):\n",
    "    \"\"\"\n",
    "    Analyse le DataFrame, classifie les genres pour toutes les musiques,\n",
    "    et retourne le DataFrame mis à jour.\n",
    "    \"\"\"\n",
    "    # Crée la colonne 'genre' si elle n'existe pas, avec une valeur par défaut\n",
    "    if \"genre\" not in df.columns:\n",
    "        df[\"genre\"] = None\n",
    "\n",
    "    # Sélectionne les musiques qui n'ont pas encore de genre valide\n",
    "    # On utilise .index pour garder une référence aux lignes originales\n",
    "    lignes_a_classifier = df[df[\"genre\"].isnull()].index\n",
    "\n",
    "    if lignes_a_classifier.empty:\n",
    "        print(\"Toutes les musiques ont déjà un genre. Aucune action requise.\")\n",
    "        return df\n",
    "\n",
    "    print(f\"Il y a {len(lignes_a_classifier)} musiques à classifier.\")\n",
    "\n",
    "    # Récupère la liste des URLs à traiter\n",
    "    urls_a_traiter = df.loc[lignes_a_classifier, \"preview\"].tolist()\n",
    "\n",
    "    # Lance le traitement par lot sur ces URLs\n",
    "    genres_predits = obtenir_genres_en_lot(urls_a_traiter)\n",
    "\n",
    "    # Met à jour la colonne 'genre' du DataFrame original aux bons endroits\n",
    "    df.loc[lignes_a_classifier, \"genre\"] = genres_predits\n",
    "\n",
    "    print(\"\\n✅ Classification terminée. Le DataFrame a été mis à jour.\")\n",
    "    return df"
   ]
  },
  {
   "cell_type": "code",
   "execution_count": null,
   "id": "3c763e6c",
   "metadata": {},
   "outputs": [
    {
     "name": "stdout",
     "output_type": "stream",
     "text": [
      "Il y a 2287 musiques à classifier.\n"
     ]
    },
    {
     "name": "stderr",
     "output_type": "stream",
     "text": [
      "Device set to use cpu\n"
     ]
    },
    {
     "name": "stdout",
     "output_type": "stream",
     "text": [
      "Étape 1: Téléchargement des fichiers audio...\n"
     ]
    },
    {
     "name": "stderr",
     "output_type": "stream",
     "text": [
      "100%|██████████| 2287/2287 [03:41<00:00, 10.31it/s]\n"
     ]
    },
    {
     "name": "stdout",
     "output_type": "stream",
     "text": [
      "\n",
      "Étape 2: Classification des genres...\n"
     ]
    }
   ],
   "source": [
    "# Lancez la classification sur l'ensemble de votre DataFrame\n",
    "df_tracks_complet = classifier_tous_les_genres(df_tracks)\n",
    "\n",
    "# Affichez un aperçu des résultats\n",
    "print(\"\\n--- Aperçu du DataFrame avec les genres ---\")\n",
    "display(df_tracks_complet[[\"title\", \"artist\", \"genre\"]].head(10))"
   ]
  },
  {
   "cell_type": "code",
   "execution_count": 6,
   "id": "634fca46",
   "metadata": {},
   "outputs": [
    {
     "name": "stdout",
     "output_type": "stream",
     "text": [
      "Création de la pipeline de classification de genre...\n"
     ]
    },
    {
     "name": "stderr",
     "output_type": "stream",
     "text": [
      "Device set to use cpu\n"
     ]
    },
    {
     "name": "stdout",
     "output_type": "stream",
     "text": [
      "Pipeline créée.\n",
      "\n",
      "⏳ Téléchargement des aperçus audio...\n"
     ]
    },
    {
     "name": "stderr",
     "output_type": "stream",
     "text": [
      "100%|██████████| 2287/2287 [08:07<00:00,  4.69it/s] \n"
     ]
    },
    {
     "name": "stdout",
     "output_type": "stream",
     "text": [
      "\n",
      "✅ 0 aperçus audio valides trouvés.\n",
      "\n",
      "🚀 Prédiction des genres par lots sur le CPU...\n",
      "\n",
      "--- DataFrame final avec les Genres ---\n",
      "                              title       artist          genre\n",
      "0                             STRIX  (K)now_Name  Genre inconnu\n",
      "1                               TBD  (K)now_Name  Genre inconnu\n",
      "2                              WISE  (K)now_Name  Genre inconnu\n",
      "3         sleeping beauty feat.GUMI          164  Genre inconnu\n",
      "4                  タイムマシン feat.GUMI          164  Genre inconnu\n",
      "5                ミスターデジャブ feat.GUMI          164  Genre inconnu\n",
      "6                     天ノ弱 feat.GUMI          164  Genre inconnu\n",
      "7  Mirror Temple (Mirror Magic Mix)      2 Mello  Genre inconnu\n",
      "8              24 Hour Party People      2 Mello  Genre inconnu\n",
      "9                          Ba-Da-Ba      2 Mello  Genre inconnu\n"
     ]
    }
   ],
   "source": [
    "import pandas as pd\n",
    "from transformers import pipeline\n",
    "from tqdm import tqdm\n",
    "import requests\n",
    "\n",
    "# Assurez-vous que votre DataFrame 'df_tracks' est chargé avant ce code\n",
    "# df_tracks = ...\n",
    "\n",
    "print(\"Création de la pipeline de classification de genre...\")\n",
    "genre_classifier = pipeline(\n",
    "    \"audio-classification\", model=\"dima806/music_genres_classification\"\n",
    ")\n",
    "print(\"Pipeline créée.\")\n",
    "\n",
    "# --- NOUVELLE LOGIQUE PLUS ROBUSTE ---\n",
    "\n",
    "print(\"\\n⏳ Téléchargement des aperçus audio...\")\n",
    "\n",
    "# On ne stocke que les données valides et leurs indices d'origine\n",
    "valid_audio_data = []\n",
    "original_indices = []\n",
    "\n",
    "for index, url in tqdm(enumerate(df_tracks[\"preview\"]), total=len(df_tracks)):\n",
    "    if isinstance(url, str) and url.startswith(\"http\"):\n",
    "        try:\n",
    "            response = requests.get(url, timeout=10)\n",
    "            response.raise_for_status()\n",
    "            # On ajoute les données et l'indice si le téléchargement réussit\n",
    "            valid_audio_data.append(response.content)\n",
    "            original_indices.append(index)\n",
    "        except requests.RequestException:\n",
    "            # Si le téléchargement échoue, on ne fait rien\n",
    "            pass\n",
    "\n",
    "print(f\"\\n✅ {len(valid_audio_data)} aperçus audio valides trouvés.\")\n",
    "print(\"\\n🚀 Prédiction des genres par lots sur le CPU...\")\n",
    "\n",
    "# On passe UNIQUEMENT la liste des données valides à la pipeline.\n",
    "results_list = genre_classifier(valid_audio_data, batch_size=8)\n",
    "\n",
    "# On initialise la colonne de genre avec une valeur par défaut\n",
    "genres = [\"Genre inconnu\"] * len(df_tracks)\n",
    "\n",
    "# On réinsère les résultats aux bons endroits grâce à la liste des indices\n",
    "for i, result in enumerate(results_list):\n",
    "    # L'indice dans le DataFrame d'origine\n",
    "    original_index = original_indices[i]\n",
    "    if result and isinstance(result, list) and len(result) > 0:\n",
    "        # On place le genre prédit à la bonne position\n",
    "        genres[original_index] = result[0][\"label\"]\n",
    "    else:\n",
    "        genres[original_index] = \"Erreur de prédiction\"\n",
    "\n",
    "\n",
    "# On ajoute la nouvelle colonne de genres au DataFrame\n",
    "df_tracks[\"genre\"] = genres\n",
    "\n",
    "print(\"\\n--- DataFrame final avec les Genres ---\")\n",
    "# Affiche les colonnes pertinentes, y compris pour les genres inconnus\n",
    "print(df_tracks[[\"title\", \"artist\", \"genre\"]].head(10))\n",
    "\n",
    "# On sauvegarde les résultats dans le cache pour ne pas avoir à le refaire\n",
    "df_tracks[[\"id\", \"genre\"]].to_csv(\"track_genres_pipeline.csv\", index=False)"
   ]
  },
  {
   "cell_type": "code",
   "execution_count": null,
   "id": "f2f0b1f3",
   "metadata": {},
   "outputs": [],
   "source": []
  }
 ],
 "metadata": {
  "kernelspec": {
   "display_name": "deezerboy",
   "language": "python",
   "name": "python3"
  },
  "language_info": {
   "codemirror_mode": {
    "name": "ipython",
    "version": 3
   },
   "file_extension": ".py",
   "mimetype": "text/x-python",
   "name": "python",
   "nbconvert_exporter": "python",
   "pygments_lexer": "ipython3",
   "version": "3.11.14"
  }
 },
 "nbformat": 4,
 "nbformat_minor": 5
}
